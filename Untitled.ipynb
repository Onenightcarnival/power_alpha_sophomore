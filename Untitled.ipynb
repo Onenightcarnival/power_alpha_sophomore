{
 "cells": [
  {
   "cell_type": "code",
   "execution_count": 1,
   "metadata": {},
   "outputs": [],
   "source": [
    "import pandas as pd\n",
    "import numpy as np"
   ]
  },
  {
   "cell_type": "markdown",
   "metadata": {},
   "source": [
    "# 读取数据"
   ]
  },
  {
   "cell_type": "code",
   "execution_count": 2,
   "metadata": {},
   "outputs": [
    {
     "data": {
      "text/html": [
       "<div>\n",
       "<style scoped>\n",
       "    .dataframe tbody tr th:only-of-type {\n",
       "        vertical-align: middle;\n",
       "    }\n",
       "\n",
       "    .dataframe tbody tr th {\n",
       "        vertical-align: top;\n",
       "    }\n",
       "\n",
       "    .dataframe thead th {\n",
       "        text-align: right;\n",
       "    }\n",
       "</style>\n",
       "<table border=\"1\" class=\"dataframe\">\n",
       "  <thead>\n",
       "    <tr style=\"text-align: right;\">\n",
       "      <th></th>\n",
       "      <th>date</th>\n",
       "      <th>tick</th>\n",
       "      <th>target</th>\n",
       "      <th>entry</th>\n",
       "      <th>stop</th>\n",
       "      <th>rate</th>\n",
       "      <th>entry_strategy</th>\n",
       "      <th>stop_strategy</th>\n",
       "      <th>trail_strategy</th>\n",
       "      <th>risk</th>\n",
       "      <th>reward</th>\n",
       "      <th>rrr</th>\n",
       "      <th>raise_cash</th>\n",
       "      <th>cash_level</th>\n",
       "    </tr>\n",
       "  </thead>\n",
       "  <tbody>\n",
       "    <tr>\n",
       "      <th>0</th>\n",
       "      <td>2020-12-02</td>\n",
       "      <td>SE</td>\n",
       "      <td>212.52</td>\n",
       "      <td>181.38</td>\n",
       "      <td>174.61</td>\n",
       "      <td>25</td>\n",
       "      <td>0</td>\n",
       "      <td>1</td>\n",
       "      <td>1.0</td>\n",
       "      <td>3.73</td>\n",
       "      <td>17.17</td>\n",
       "      <td>4.60</td>\n",
       "      <td>0</td>\n",
       "      <td>0.0</td>\n",
       "    </tr>\n",
       "    <tr>\n",
       "      <th>1</th>\n",
       "      <td>2020-12-02</td>\n",
       "      <td>GRBK</td>\n",
       "      <td>26.90</td>\n",
       "      <td>21.74</td>\n",
       "      <td>20.85</td>\n",
       "      <td>19</td>\n",
       "      <td>0</td>\n",
       "      <td>0</td>\n",
       "      <td>0.0</td>\n",
       "      <td>4.09</td>\n",
       "      <td>23.74</td>\n",
       "      <td>5.80</td>\n",
       "      <td>0</td>\n",
       "      <td>0.0</td>\n",
       "    </tr>\n",
       "    <tr>\n",
       "      <th>2</th>\n",
       "      <td>2020-12-02</td>\n",
       "      <td>AES</td>\n",
       "      <td>22.77</td>\n",
       "      <td>20.66</td>\n",
       "      <td>20.27</td>\n",
       "      <td>13</td>\n",
       "      <td>0</td>\n",
       "      <td>0</td>\n",
       "      <td>0.0</td>\n",
       "      <td>1.89</td>\n",
       "      <td>10.21</td>\n",
       "      <td>5.40</td>\n",
       "      <td>0</td>\n",
       "      <td>0.0</td>\n",
       "    </tr>\n",
       "    <tr>\n",
       "      <th>3</th>\n",
       "      <td>2020-12-02</td>\n",
       "      <td>MSFT</td>\n",
       "      <td>225.67</td>\n",
       "      <td>214.75</td>\n",
       "      <td>212.80</td>\n",
       "      <td>12</td>\n",
       "      <td>1</td>\n",
       "      <td>0</td>\n",
       "      <td>0.0</td>\n",
       "      <td>0.91</td>\n",
       "      <td>5.08</td>\n",
       "      <td>5.58</td>\n",
       "      <td>0</td>\n",
       "      <td>0.0</td>\n",
       "    </tr>\n",
       "    <tr>\n",
       "      <th>4</th>\n",
       "      <td>2020-12-02</td>\n",
       "      <td>BLL</td>\n",
       "      <td>103.15</td>\n",
       "      <td>94.94</td>\n",
       "      <td>93.42</td>\n",
       "      <td>12</td>\n",
       "      <td>1</td>\n",
       "      <td>0</td>\n",
       "      <td>0.0</td>\n",
       "      <td>1.60</td>\n",
       "      <td>8.65</td>\n",
       "      <td>5.41</td>\n",
       "      <td>0</td>\n",
       "      <td>0.0</td>\n",
       "    </tr>\n",
       "  </tbody>\n",
       "</table>\n",
       "</div>"
      ],
      "text/plain": [
       "         date  tick  target   entry    stop  rate  entry_strategy  \\\n",
       "0  2020-12-02    SE  212.52  181.38  174.61    25               0   \n",
       "1  2020-12-02  GRBK   26.90   21.74   20.85    19               0   \n",
       "2  2020-12-02   AES   22.77   20.66   20.27    13               0   \n",
       "3  2020-12-02  MSFT  225.67  214.75  212.80    12               1   \n",
       "4  2020-12-02   BLL  103.15   94.94   93.42    12               1   \n",
       "\n",
       "   stop_strategy  trail_strategy  risk  reward   rrr  raise_cash  cash_level  \n",
       "0              1             1.0  3.73   17.17  4.60           0         0.0  \n",
       "1              0             0.0  4.09   23.74  5.80           0         0.0  \n",
       "2              0             0.0  1.89   10.21  5.40           0         0.0  \n",
       "3              0             0.0  0.91    5.08  5.58           0         0.0  \n",
       "4              0             0.0  1.60    8.65  5.41           0         0.0  "
      ]
     },
     "execution_count": 2,
     "metadata": {},
     "output_type": "execute_result"
    }
   ],
   "source": [
    "strategy = pd.read_csv('strategy.csv')\n",
    "strategy.head()"
   ]
  },
  {
   "cell_type": "code",
   "execution_count": 3,
   "metadata": {},
   "outputs": [
    {
     "data": {
      "text/html": [
       "<div>\n",
       "<style scoped>\n",
       "    .dataframe tbody tr th:only-of-type {\n",
       "        vertical-align: middle;\n",
       "    }\n",
       "\n",
       "    .dataframe tbody tr th {\n",
       "        vertical-align: top;\n",
       "    }\n",
       "\n",
       "    .dataframe thead th {\n",
       "        text-align: right;\n",
       "    }\n",
       "</style>\n",
       "<table border=\"1\" class=\"dataframe\">\n",
       "  <thead>\n",
       "    <tr style=\"text-align: right;\">\n",
       "      <th></th>\n",
       "      <th>tick</th>\n",
       "      <th>price</th>\n",
       "      <th>success</th>\n",
       "      <th>trigger_date</th>\n",
       "      <th>has_strategy</th>\n",
       "      <th>strategy_date</th>\n",
       "      <th>has_rate</th>\n",
       "      <th>rate</th>\n",
       "      <th>raise_cash</th>\n",
       "      <th>cash_level</th>\n",
       "    </tr>\n",
       "  </thead>\n",
       "  <tbody>\n",
       "    <tr>\n",
       "      <th>0</th>\n",
       "      <td>MSFT</td>\n",
       "      <td>214.97</td>\n",
       "      <td>0.0</td>\n",
       "      <td>2020-12-03</td>\n",
       "      <td>1</td>\n",
       "      <td>2020-12-02</td>\n",
       "      <td>1</td>\n",
       "      <td>12.0</td>\n",
       "      <td>0</td>\n",
       "      <td>0.0</td>\n",
       "    </tr>\n",
       "    <tr>\n",
       "      <th>1</th>\n",
       "      <td>GRBK</td>\n",
       "      <td>21.88</td>\n",
       "      <td>1.0</td>\n",
       "      <td>2020-12-03</td>\n",
       "      <td>1</td>\n",
       "      <td>2020-12-02</td>\n",
       "      <td>1</td>\n",
       "      <td>19.0</td>\n",
       "      <td>0</td>\n",
       "      <td>0.0</td>\n",
       "    </tr>\n",
       "    <tr>\n",
       "      <th>2</th>\n",
       "      <td>BLL</td>\n",
       "      <td>94.50</td>\n",
       "      <td>0.0</td>\n",
       "      <td>2020-12-07</td>\n",
       "      <td>0</td>\n",
       "      <td>NaN</td>\n",
       "      <td>0</td>\n",
       "      <td>NaN</td>\n",
       "      <td>0</td>\n",
       "      <td>0.0</td>\n",
       "    </tr>\n",
       "    <tr>\n",
       "      <th>3</th>\n",
       "      <td>MSI</td>\n",
       "      <td>171.24</td>\n",
       "      <td>0.0</td>\n",
       "      <td>2020-12-07</td>\n",
       "      <td>0</td>\n",
       "      <td>NaN</td>\n",
       "      <td>0</td>\n",
       "      <td>NaN</td>\n",
       "      <td>0</td>\n",
       "      <td>0.0</td>\n",
       "    </tr>\n",
       "    <tr>\n",
       "      <th>4</th>\n",
       "      <td>EL</td>\n",
       "      <td>246.78</td>\n",
       "      <td>1.0</td>\n",
       "      <td>2020-12-08</td>\n",
       "      <td>1</td>\n",
       "      <td>2020-12-07</td>\n",
       "      <td>1</td>\n",
       "      <td>18.0</td>\n",
       "      <td>0</td>\n",
       "      <td>0.0</td>\n",
       "    </tr>\n",
       "  </tbody>\n",
       "</table>\n",
       "</div>"
      ],
      "text/plain": [
       "   tick   price  success trigger_date  has_strategy strategy_date  has_rate  \\\n",
       "0  MSFT  214.97      0.0   2020-12-03             1    2020-12-02         1   \n",
       "1  GRBK   21.88      1.0   2020-12-03             1    2020-12-02         1   \n",
       "2   BLL   94.50      0.0   2020-12-07             0           NaN         0   \n",
       "3   MSI  171.24      0.0   2020-12-07             0           NaN         0   \n",
       "4    EL  246.78      1.0   2020-12-08             1    2020-12-07         1   \n",
       "\n",
       "   rate  raise_cash  cash_level  \n",
       "0  12.0           0         0.0  \n",
       "1  19.0           0         0.0  \n",
       "2   NaN           0         0.0  \n",
       "3   NaN           0         0.0  \n",
       "4  18.0           0         0.0  "
      ]
     },
     "execution_count": 3,
     "metadata": {},
     "output_type": "execute_result"
    }
   ],
   "source": [
    "triggered = pd.read_csv('triggered.csv')\n",
    "triggered.head()"
   ]
  },
  {
   "cell_type": "markdown",
   "metadata": {},
   "source": [
    "# 触发率"
   ]
  },
  {
   "cell_type": "code",
   "execution_count": 4,
   "metadata": {},
   "outputs": [
    {
     "data": {
      "text/plain": [
       "0.34831460674157305"
      ]
     },
     "execution_count": 4,
     "metadata": {},
     "output_type": "execute_result"
    }
   ],
   "source": [
    "len(triggered['tick']) / len(strategy['tick'])"
   ]
  },
  {
   "cell_type": "markdown",
   "metadata": {},
   "source": [
    "# triggered：有无提示 vs 结果"
   ]
  },
  {
   "cell_type": "code",
   "execution_count": 5,
   "metadata": {},
   "outputs": [
    {
     "data": {
      "text/plain": [
       "success  has_strategy\n",
       "0.0      1               0.387097\n",
       "1.0      1               0.322581\n",
       "0.0      0               0.193548\n",
       "1.0      0               0.032258\n",
       "dtype: float64"
      ]
     },
     "execution_count": 5,
     "metadata": {},
     "output_type": "execute_result"
    }
   ],
   "source": [
    "triggered[['success', 'has_strategy']].value_counts() / len(triggered)"
   ]
  },
  {
   "cell_type": "markdown",
   "metadata": {},
   "source": [
    "# triggered：股价 vs 结果"
   ]
  },
  {
   "cell_type": "code",
   "execution_count": 6,
   "metadata": {},
   "outputs": [
    {
     "data": {
      "text/plain": [
       "price  success\n",
       "1      0.0        0.387097\n",
       "       1.0        0.258065\n",
       "0      0.0        0.193548\n",
       "       1.0        0.096774\n",
       "dtype: float64"
      ]
     },
     "execution_count": 6,
     "metadata": {},
     "output_type": "execute_result"
    }
   ],
   "source": [
    "temp = triggered.copy()\n",
    "f = lambda x: 0 if x < 50 else 1\n",
    "temp['price'] = temp['price'].map(f)\n",
    "temp[['price', 'success']].value_counts() / len(temp)"
   ]
  },
  {
   "cell_type": "markdown",
   "metadata": {},
   "source": [
    "# triggered：股价 vs 结果，有/无 提示"
   ]
  },
  {
   "cell_type": "code",
   "execution_count": 7,
   "metadata": {},
   "outputs": [
    {
     "data": {
      "text/plain": [
       "price  success\n",
       "1      1.0        0.333333\n",
       "       0.0        0.291667\n",
       "0      0.0        0.208333\n",
       "       1.0        0.083333\n",
       "dtype: float64"
      ]
     },
     "execution_count": 7,
     "metadata": {},
     "output_type": "execute_result"
    }
   ],
   "source": [
    "has_temp = temp[temp['has_strategy'] == 1]\n",
    "has_temp[['price', 'success']].value_counts() / len(has_temp)"
   ]
  },
  {
   "cell_type": "code",
   "execution_count": 8,
   "metadata": {},
   "outputs": [
    {
     "data": {
      "text/plain": [
       "price  success\n",
       "1      0.0        0.714286\n",
       "0      1.0        0.142857\n",
       "       0.0        0.142857\n",
       "dtype: float64"
      ]
     },
     "execution_count": 8,
     "metadata": {},
     "output_type": "execute_result"
    }
   ],
   "source": [
    "no_temp = temp[temp['has_strategy'] == 0]\n",
    "no_temp[['price', 'success']].value_counts() / len(no_temp)"
   ]
  },
  {
   "cell_type": "markdown",
   "metadata": {},
   "source": [
    "# triggered：推荐指数 vs 结果"
   ]
  },
  {
   "cell_type": "code",
   "execution_count": 9,
   "metadata": {},
   "outputs": [
    {
     "data": {
      "text/plain": [
       "rate  success\n",
       "1     1.0        0.333333\n",
       "0     0.0        0.333333\n",
       "1     0.0        0.166667\n",
       "0     1.0        0.083333\n",
       "dtype: float64"
      ]
     },
     "execution_count": 9,
     "metadata": {},
     "output_type": "execute_result"
    }
   ],
   "source": [
    "temp = triggered.copy()\n",
    "temp = temp[temp['has_rate'] == 1]\n",
    "f = lambda x: 0 if x < 18 else 1\n",
    "temp['rate'] = temp['rate'].map(f)\n",
    "temp[['rate', 'success']].value_counts() / len(temp)"
   ]
  },
  {
   "cell_type": "markdown",
   "metadata": {},
   "source": [
    "# 计算RRR"
   ]
  },
  {
   "cell_type": "code",
   "execution_count": 10,
   "metadata": {},
   "outputs": [
    {
     "data": {
      "text/html": [
       "<div>\n",
       "<style scoped>\n",
       "    .dataframe tbody tr th:only-of-type {\n",
       "        vertical-align: middle;\n",
       "    }\n",
       "\n",
       "    .dataframe tbody tr th {\n",
       "        vertical-align: top;\n",
       "    }\n",
       "\n",
       "    .dataframe thead th {\n",
       "        text-align: right;\n",
       "    }\n",
       "</style>\n",
       "<table border=\"1\" class=\"dataframe\">\n",
       "  <thead>\n",
       "    <tr style=\"text-align: right;\">\n",
       "      <th></th>\n",
       "      <th>date</th>\n",
       "      <th>tick</th>\n",
       "      <th>target</th>\n",
       "      <th>entry</th>\n",
       "      <th>stop</th>\n",
       "      <th>rate</th>\n",
       "      <th>entry_strategy</th>\n",
       "      <th>stop_strategy</th>\n",
       "      <th>trail_strategy</th>\n",
       "      <th>risk</th>\n",
       "      <th>reward</th>\n",
       "      <th>rrr</th>\n",
       "      <th>raise_cash</th>\n",
       "      <th>cash_level</th>\n",
       "    </tr>\n",
       "  </thead>\n",
       "  <tbody>\n",
       "    <tr>\n",
       "      <th>0</th>\n",
       "      <td>2020-12-02</td>\n",
       "      <td>SE</td>\n",
       "      <td>212.52</td>\n",
       "      <td>181.38</td>\n",
       "      <td>174.61</td>\n",
       "      <td>25</td>\n",
       "      <td>0</td>\n",
       "      <td>1</td>\n",
       "      <td>1.0</td>\n",
       "      <td>3.73</td>\n",
       "      <td>17.17</td>\n",
       "      <td>4.60</td>\n",
       "      <td>0</td>\n",
       "      <td>0.0</td>\n",
       "    </tr>\n",
       "    <tr>\n",
       "      <th>1</th>\n",
       "      <td>2020-12-02</td>\n",
       "      <td>GRBK</td>\n",
       "      <td>26.90</td>\n",
       "      <td>21.74</td>\n",
       "      <td>20.85</td>\n",
       "      <td>19</td>\n",
       "      <td>0</td>\n",
       "      <td>0</td>\n",
       "      <td>0.0</td>\n",
       "      <td>4.09</td>\n",
       "      <td>23.74</td>\n",
       "      <td>5.80</td>\n",
       "      <td>0</td>\n",
       "      <td>0.0</td>\n",
       "    </tr>\n",
       "    <tr>\n",
       "      <th>2</th>\n",
       "      <td>2020-12-02</td>\n",
       "      <td>AES</td>\n",
       "      <td>22.77</td>\n",
       "      <td>20.66</td>\n",
       "      <td>20.27</td>\n",
       "      <td>13</td>\n",
       "      <td>0</td>\n",
       "      <td>0</td>\n",
       "      <td>0.0</td>\n",
       "      <td>1.89</td>\n",
       "      <td>10.21</td>\n",
       "      <td>5.40</td>\n",
       "      <td>0</td>\n",
       "      <td>0.0</td>\n",
       "    </tr>\n",
       "    <tr>\n",
       "      <th>3</th>\n",
       "      <td>2020-12-02</td>\n",
       "      <td>MSFT</td>\n",
       "      <td>225.67</td>\n",
       "      <td>214.75</td>\n",
       "      <td>212.80</td>\n",
       "      <td>12</td>\n",
       "      <td>1</td>\n",
       "      <td>0</td>\n",
       "      <td>0.0</td>\n",
       "      <td>0.91</td>\n",
       "      <td>5.08</td>\n",
       "      <td>5.58</td>\n",
       "      <td>0</td>\n",
       "      <td>0.0</td>\n",
       "    </tr>\n",
       "    <tr>\n",
       "      <th>4</th>\n",
       "      <td>2020-12-02</td>\n",
       "      <td>BLL</td>\n",
       "      <td>103.15</td>\n",
       "      <td>94.94</td>\n",
       "      <td>93.42</td>\n",
       "      <td>12</td>\n",
       "      <td>1</td>\n",
       "      <td>0</td>\n",
       "      <td>0.0</td>\n",
       "      <td>1.60</td>\n",
       "      <td>8.65</td>\n",
       "      <td>5.41</td>\n",
       "      <td>0</td>\n",
       "      <td>0.0</td>\n",
       "    </tr>\n",
       "  </tbody>\n",
       "</table>\n",
       "</div>"
      ],
      "text/plain": [
       "         date  tick  target   entry    stop  rate  entry_strategy  \\\n",
       "0  2020-12-02    SE  212.52  181.38  174.61    25               0   \n",
       "1  2020-12-02  GRBK   26.90   21.74   20.85    19               0   \n",
       "2  2020-12-02   AES   22.77   20.66   20.27    13               0   \n",
       "3  2020-12-02  MSFT  225.67  214.75  212.80    12               1   \n",
       "4  2020-12-02   BLL  103.15   94.94   93.42    12               1   \n",
       "\n",
       "   stop_strategy  trail_strategy  risk  reward   rrr  raise_cash  cash_level  \n",
       "0              1             1.0  3.73   17.17  4.60           0         0.0  \n",
       "1              0             0.0  4.09   23.74  5.80           0         0.0  \n",
       "2              0             0.0  1.89   10.21  5.40           0         0.0  \n",
       "3              0             0.0  0.91    5.08  5.58           0         0.0  \n",
       "4              0             0.0  1.60    8.65  5.41           0         0.0  "
      ]
     },
     "execution_count": 10,
     "metadata": {},
     "output_type": "execute_result"
    }
   ],
   "source": [
    "strategy['risk'] = round((1 - strategy['stop'] / strategy['entry'])*100, 2)\n",
    "strategy['reward'] = round((strategy['target'] / strategy['entry'] - 1)*100, 2)\n",
    "strategy['rrr'] = round(strategy['reward'] / strategy['risk'], 2)\n",
    "strategy.head()"
   ]
  },
  {
   "cell_type": "code",
   "execution_count": 11,
   "metadata": {},
   "outputs": [],
   "source": [
    "strategy.to_csv('strategy.csv', index=False)"
   ]
  },
  {
   "cell_type": "code",
   "execution_count": 12,
   "metadata": {},
   "outputs": [
    {
     "data": {
      "text/plain": [
       "count    89.000000\n",
       "mean      2.454494\n",
       "std       1.376381\n",
       "min       0.550000\n",
       "25%       1.520000\n",
       "50%       2.100000\n",
       "75%       3.140000\n",
       "max       7.500000\n",
       "Name: risk, dtype: float64"
      ]
     },
     "execution_count": 12,
     "metadata": {},
     "output_type": "execute_result"
    }
   ],
   "source": [
    "strategy['risk'].describe()"
   ]
  },
  {
   "cell_type": "code",
   "execution_count": 13,
   "metadata": {},
   "outputs": [
    {
     "data": {
      "text/plain": [
       "count    89.000000\n",
       "mean     13.922022\n",
       "std       8.654475\n",
       "min       2.040000\n",
       "25%       7.970000\n",
       "50%      11.950000\n",
       "75%      17.410000\n",
       "max      51.660000\n",
       "Name: reward, dtype: float64"
      ]
     },
     "execution_count": 13,
     "metadata": {},
     "output_type": "execute_result"
    }
   ],
   "source": [
    "strategy['reward'].describe()"
   ]
  },
  {
   "cell_type": "code",
   "execution_count": 14,
   "metadata": {},
   "outputs": [
    {
     "data": {
      "text/plain": [
       "count    89.000000\n",
       "mean      5.818764\n",
       "std       1.755601\n",
       "min       2.460000\n",
       "25%       4.400000\n",
       "50%       5.590000\n",
       "75%       7.810000\n",
       "max       8.020000\n",
       "Name: rrr, dtype: float64"
      ]
     },
     "execution_count": 14,
     "metadata": {},
     "output_type": "execute_result"
    }
   ],
   "source": [
    "strategy['rrr'].describe()"
   ]
  },
  {
   "cell_type": "markdown",
   "metadata": {},
   "source": [
    "# rate统计"
   ]
  },
  {
   "cell_type": "code",
   "execution_count": 15,
   "metadata": {},
   "outputs": [
    {
     "data": {
      "text/plain": [
       "count    89.000000\n",
       "mean     17.134831\n",
       "std       3.802484\n",
       "min      10.000000\n",
       "25%      14.000000\n",
       "50%      18.000000\n",
       "75%      20.000000\n",
       "max      26.000000\n",
       "Name: rate, dtype: float64"
      ]
     },
     "execution_count": 15,
     "metadata": {},
     "output_type": "execute_result"
    }
   ],
   "source": [
    "strategy['rate'].describe()"
   ]
  },
  {
   "cell_type": "code",
   "execution_count": 16,
   "metadata": {},
   "outputs": [
    {
     "data": {
      "text/plain": [
       "count    10.000000\n",
       "mean     18.500000\n",
       "std       3.100179\n",
       "min      12.000000\n",
       "25%      18.000000\n",
       "50%      19.000000\n",
       "75%      20.500000\n",
       "max      22.000000\n",
       "Name: rate, dtype: float64"
      ]
     },
     "execution_count": 16,
     "metadata": {},
     "output_type": "execute_result"
    }
   ],
   "source": [
    "triggered[triggered['success'] == 1]['rate'].describe()"
   ]
  },
  {
   "cell_type": "markdown",
   "metadata": {},
   "source": [
    "# tick出现频率排序"
   ]
  },
  {
   "cell_type": "code",
   "execution_count": 17,
   "metadata": {},
   "outputs": [
    {
     "name": "stdout",
     "output_type": "stream",
     "text": [
      "[('SPOT', 6), ('SE', 4), ('COUP', 4), ('STNE', 4), ('MSI', 3), ('IP', 3), ('SQ', 3), ('AES', 2), ('BLL', 2), ('JD', 2), ('EL', 2), ('DKNG', 2), ('WMT', 2), ('AVTR', 2), ('NOW', 2), ('PINS', 2), ('TEAM', 2), ('STX', 2), ('WRK', 2), ('NUAN', 2), ('UBER', 2), ('AAPL', 2), ('GRBK', 1), ('MSFT', 1), ('TCOM', 1), ('ROK', 1), ('BF.B', 1), ('LILAK', 1), ('UNH', 1), ('FTCH', 1), ('MU', 1), ('GDS', 1), ('CC', 1), ('A', 1), ('MELI', 1), ('HHC', 1), ('ROKU', 1), ('LULU', 1), ('APG', 1), ('FISV', 1), ('ATUS', 1), ('AER', 1), ('SMAR', 1), ('XRX', 1), ('DELL', 1), ('VFC', 1), ('SHOP', 1), ('NET', 1), ('UAA', 1), ('OKTA', 1), ('LB', 1), ('FOXA', 1), ('DOCU', 1), ('LW', 1)]\n",
      "[('LILAK', 2), ('COUP', 2), ('MSFT', 1), ('GRBK', 1), ('BLL', 1), ('MSI', 1), ('EL', 1), ('STNE', 1), ('FITB', 1), ('CHTR', 1), ('CSX', 1), ('FTCH', 1), ('MU', 1), ('NOW', 1), ('IP', 1), ('STX', 1), ('WRK', 1), ('SQ', 1), ('SE', 1), ('HHC', 1), ('APG', 1), ('LULU', 1), ('TEAM', 1), ('AER', 1), ('DELL', 1), ('NET', 1), ('SHOP', 1), ('OKTA', 1), ('UAA', 1)]\n"
     ]
    }
   ],
   "source": [
    "import collections\n",
    "print(sorted(collections.Counter(strategy['tick']).items(), key=lambda x:x[1], reverse=True))\n",
    "print(sorted(collections.Counter(triggered['tick']).items(), key=lambda x:x[1], reverse=True))"
   ]
  },
  {
   "cell_type": "code",
   "execution_count": 18,
   "metadata": {},
   "outputs": [
    {
     "data": {
      "text/html": [
       "<div>\n",
       "<style scoped>\n",
       "    .dataframe tbody tr th:only-of-type {\n",
       "        vertical-align: middle;\n",
       "    }\n",
       "\n",
       "    .dataframe tbody tr th {\n",
       "        vertical-align: top;\n",
       "    }\n",
       "\n",
       "    .dataframe thead th {\n",
       "        text-align: right;\n",
       "    }\n",
       "</style>\n",
       "<table border=\"1\" class=\"dataframe\">\n",
       "  <thead>\n",
       "    <tr style=\"text-align: right;\">\n",
       "      <th></th>\n",
       "      <th>date</th>\n",
       "      <th>tick</th>\n",
       "      <th>target</th>\n",
       "      <th>entry</th>\n",
       "      <th>stop</th>\n",
       "      <th>rate</th>\n",
       "      <th>entry_strategy</th>\n",
       "      <th>stop_strategy</th>\n",
       "      <th>trail_strategy</th>\n",
       "      <th>risk</th>\n",
       "      <th>reward</th>\n",
       "      <th>rrr</th>\n",
       "      <th>raise_cash</th>\n",
       "      <th>cash_level</th>\n",
       "    </tr>\n",
       "  </thead>\n",
       "  <tbody>\n",
       "    <tr>\n",
       "      <th>84</th>\n",
       "      <td>2021-01-25</td>\n",
       "      <td>SPOT</td>\n",
       "      <td>410.09</td>\n",
       "      <td>336.79</td>\n",
       "      <td>326.66</td>\n",
       "      <td>20</td>\n",
       "      <td>0</td>\n",
       "      <td>0</td>\n",
       "      <td>0.0</td>\n",
       "      <td>3.01</td>\n",
       "      <td>21.76</td>\n",
       "      <td>7.23</td>\n",
       "      <td>0</td>\n",
       "      <td>0.0</td>\n",
       "    </tr>\n",
       "    <tr>\n",
       "      <th>85</th>\n",
       "      <td>2021-01-25</td>\n",
       "      <td>LB</td>\n",
       "      <td>56.18</td>\n",
       "      <td>43.71</td>\n",
       "      <td>40.43</td>\n",
       "      <td>16</td>\n",
       "      <td>0</td>\n",
       "      <td>0</td>\n",
       "      <td>0.0</td>\n",
       "      <td>7.50</td>\n",
       "      <td>28.53</td>\n",
       "      <td>3.80</td>\n",
       "      <td>0</td>\n",
       "      <td>0.0</td>\n",
       "    </tr>\n",
       "    <tr>\n",
       "      <th>86</th>\n",
       "      <td>2021-01-25</td>\n",
       "      <td>FOXA</td>\n",
       "      <td>38.55</td>\n",
       "      <td>31.53</td>\n",
       "      <td>30.18</td>\n",
       "      <td>15</td>\n",
       "      <td>1</td>\n",
       "      <td>0</td>\n",
       "      <td>0.0</td>\n",
       "      <td>4.28</td>\n",
       "      <td>22.26</td>\n",
       "      <td>5.20</td>\n",
       "      <td>0</td>\n",
       "      <td>0.0</td>\n",
       "    </tr>\n",
       "    <tr>\n",
       "      <th>87</th>\n",
       "      <td>2021-01-25</td>\n",
       "      <td>DOCU</td>\n",
       "      <td>298.46</td>\n",
       "      <td>248.12</td>\n",
       "      <td>236.68</td>\n",
       "      <td>13</td>\n",
       "      <td>1</td>\n",
       "      <td>1</td>\n",
       "      <td>1.0</td>\n",
       "      <td>4.61</td>\n",
       "      <td>20.29</td>\n",
       "      <td>4.40</td>\n",
       "      <td>0</td>\n",
       "      <td>0.0</td>\n",
       "    </tr>\n",
       "    <tr>\n",
       "      <th>88</th>\n",
       "      <td>2021-01-25</td>\n",
       "      <td>LW</td>\n",
       "      <td>87.29</td>\n",
       "      <td>77.78</td>\n",
       "      <td>76.14</td>\n",
       "      <td>12</td>\n",
       "      <td>1</td>\n",
       "      <td>1</td>\n",
       "      <td>1.0</td>\n",
       "      <td>2.11</td>\n",
       "      <td>12.23</td>\n",
       "      <td>5.80</td>\n",
       "      <td>0</td>\n",
       "      <td>0.0</td>\n",
       "    </tr>\n",
       "  </tbody>\n",
       "</table>\n",
       "</div>"
      ],
      "text/plain": [
       "          date  tick  target   entry    stop  rate  entry_strategy  \\\n",
       "84  2021-01-25  SPOT  410.09  336.79  326.66    20               0   \n",
       "85  2021-01-25    LB   56.18   43.71   40.43    16               0   \n",
       "86  2021-01-25  FOXA   38.55   31.53   30.18    15               1   \n",
       "87  2021-01-25  DOCU  298.46  248.12  236.68    13               1   \n",
       "88  2021-01-25    LW   87.29   77.78   76.14    12               1   \n",
       "\n",
       "    stop_strategy  trail_strategy  risk  reward   rrr  raise_cash  cash_level  \n",
       "84              0             0.0  3.01   21.76  7.23           0         0.0  \n",
       "85              0             0.0  7.50   28.53  3.80           0         0.0  \n",
       "86              0             0.0  4.28   22.26  5.20           0         0.0  \n",
       "87              1             1.0  4.61   20.29  4.40           0         0.0  \n",
       "88              1             1.0  2.11   12.23  5.80           0         0.0  "
      ]
     },
     "execution_count": 18,
     "metadata": {},
     "output_type": "execute_result"
    }
   ],
   "source": [
    "strategy.tail(5)"
   ]
  },
  {
   "cell_type": "code",
   "execution_count": null,
   "metadata": {},
   "outputs": [],
   "source": []
  }
 ],
 "metadata": {
  "kernelspec": {
   "display_name": "Python 3.7.6 64-bit",
   "language": "python",
   "name": "python37664bit30bc8adbc9c54fbab15eb08ecc59d4b2"
  },
  "language_info": {
   "codemirror_mode": {
    "name": "ipython",
    "version": 3
   },
   "file_extension": ".py",
   "mimetype": "text/x-python",
   "name": "python",
   "nbconvert_exporter": "python",
   "pygments_lexer": "ipython3",
   "version": "3.7.6"
  }
 },
 "nbformat": 4,
 "nbformat_minor": 4
}
