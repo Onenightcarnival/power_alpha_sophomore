{
 "cells": [
  {
   "cell_type": "code",
   "execution_count": 1,
   "metadata": {},
   "outputs": [],
   "source": [
    "import pandas as pd\n",
    "import numpy as np"
   ]
  },
  {
   "cell_type": "code",
   "execution_count": 2,
   "metadata": {},
   "outputs": [
    {
     "data": {
      "text/html": [
       "<div>\n",
       "<style scoped>\n",
       "    .dataframe tbody tr th:only-of-type {\n",
       "        vertical-align: middle;\n",
       "    }\n",
       "\n",
       "    .dataframe tbody tr th {\n",
       "        vertical-align: top;\n",
       "    }\n",
       "\n",
       "    .dataframe thead th {\n",
       "        text-align: right;\n",
       "    }\n",
       "</style>\n",
       "<table border=\"1\" class=\"dataframe\">\n",
       "  <thead>\n",
       "    <tr style=\"text-align: right;\">\n",
       "      <th></th>\n",
       "      <th>date</th>\n",
       "      <th>tick</th>\n",
       "      <th>target</th>\n",
       "      <th>entry</th>\n",
       "      <th>stop</th>\n",
       "      <th>rate</th>\n",
       "      <th>entry_strategy</th>\n",
       "      <th>stop_strategy</th>\n",
       "      <th>trail_strategy</th>\n",
       "    </tr>\n",
       "  </thead>\n",
       "  <tbody>\n",
       "    <tr>\n",
       "      <th>0</th>\n",
       "      <td>2020-12-02</td>\n",
       "      <td>SE</td>\n",
       "      <td>212.52</td>\n",
       "      <td>181.38</td>\n",
       "      <td>174.61</td>\n",
       "      <td>25</td>\n",
       "      <td>0</td>\n",
       "      <td>1</td>\n",
       "      <td>1.0</td>\n",
       "    </tr>\n",
       "    <tr>\n",
       "      <th>1</th>\n",
       "      <td>2020-12-02</td>\n",
       "      <td>GRBK</td>\n",
       "      <td>26.90</td>\n",
       "      <td>21.74</td>\n",
       "      <td>20.85</td>\n",
       "      <td>19</td>\n",
       "      <td>0</td>\n",
       "      <td>0</td>\n",
       "      <td>0.0</td>\n",
       "    </tr>\n",
       "    <tr>\n",
       "      <th>2</th>\n",
       "      <td>2020-12-02</td>\n",
       "      <td>AES</td>\n",
       "      <td>22.77</td>\n",
       "      <td>20.66</td>\n",
       "      <td>20.27</td>\n",
       "      <td>13</td>\n",
       "      <td>0</td>\n",
       "      <td>0</td>\n",
       "      <td>0.0</td>\n",
       "    </tr>\n",
       "    <tr>\n",
       "      <th>3</th>\n",
       "      <td>2020-12-02</td>\n",
       "      <td>MSFT</td>\n",
       "      <td>225.67</td>\n",
       "      <td>214.75</td>\n",
       "      <td>212.80</td>\n",
       "      <td>12</td>\n",
       "      <td>1</td>\n",
       "      <td>0</td>\n",
       "      <td>0.0</td>\n",
       "    </tr>\n",
       "    <tr>\n",
       "      <th>4</th>\n",
       "      <td>2020-12-02</td>\n",
       "      <td>BLL</td>\n",
       "      <td>103.15</td>\n",
       "      <td>94.94</td>\n",
       "      <td>93.42</td>\n",
       "      <td>12</td>\n",
       "      <td>1</td>\n",
       "      <td>0</td>\n",
       "      <td>0.0</td>\n",
       "    </tr>\n",
       "  </tbody>\n",
       "</table>\n",
       "</div>"
      ],
      "text/plain": [
       "         date  tick  target   entry    stop  rate  entry_strategy  \\\n",
       "0  2020-12-02    SE  212.52  181.38  174.61    25               0   \n",
       "1  2020-12-02  GRBK   26.90   21.74   20.85    19               0   \n",
       "2  2020-12-02   AES   22.77   20.66   20.27    13               0   \n",
       "3  2020-12-02  MSFT  225.67  214.75  212.80    12               1   \n",
       "4  2020-12-02   BLL  103.15   94.94   93.42    12               1   \n",
       "\n",
       "   stop_strategy  trail_strategy  \n",
       "0              1             1.0  \n",
       "1              0             0.0  \n",
       "2              0             0.0  \n",
       "3              0             0.0  \n",
       "4              0             0.0  "
      ]
     },
     "execution_count": 2,
     "metadata": {},
     "output_type": "execute_result"
    }
   ],
   "source": [
    "strategy = pd.read_csv('strategy.csv')\n",
    "strategy.head()"
   ]
  },
  {
   "cell_type": "code",
   "execution_count": 3,
   "metadata": {},
   "outputs": [
    {
     "data": {
      "text/html": [
       "<div>\n",
       "<style scoped>\n",
       "    .dataframe tbody tr th:only-of-type {\n",
       "        vertical-align: middle;\n",
       "    }\n",
       "\n",
       "    .dataframe tbody tr th {\n",
       "        vertical-align: top;\n",
       "    }\n",
       "\n",
       "    .dataframe thead th {\n",
       "        text-align: right;\n",
       "    }\n",
       "</style>\n",
       "<table border=\"1\" class=\"dataframe\">\n",
       "  <thead>\n",
       "    <tr style=\"text-align: right;\">\n",
       "      <th></th>\n",
       "      <th>tick</th>\n",
       "      <th>price</th>\n",
       "      <th>success</th>\n",
       "      <th>trigger_date</th>\n",
       "      <th>has_strategy</th>\n",
       "      <th>strategy_date</th>\n",
       "    </tr>\n",
       "  </thead>\n",
       "  <tbody>\n",
       "    <tr>\n",
       "      <th>0</th>\n",
       "      <td>MSFT</td>\n",
       "      <td>214.97</td>\n",
       "      <td>0</td>\n",
       "      <td>2020-12-03</td>\n",
       "      <td>1</td>\n",
       "      <td>2020-12-02</td>\n",
       "    </tr>\n",
       "    <tr>\n",
       "      <th>1</th>\n",
       "      <td>GRBK</td>\n",
       "      <td>21.88</td>\n",
       "      <td>1</td>\n",
       "      <td>2020-12-03</td>\n",
       "      <td>1</td>\n",
       "      <td>2020-12-02</td>\n",
       "    </tr>\n",
       "    <tr>\n",
       "      <th>2</th>\n",
       "      <td>BLL</td>\n",
       "      <td>94.50</td>\n",
       "      <td>0</td>\n",
       "      <td>2020-12-07</td>\n",
       "      <td>0</td>\n",
       "      <td>NaN</td>\n",
       "    </tr>\n",
       "    <tr>\n",
       "      <th>3</th>\n",
       "      <td>MSI</td>\n",
       "      <td>171.24</td>\n",
       "      <td>0</td>\n",
       "      <td>2020-12-07</td>\n",
       "      <td>0</td>\n",
       "      <td>NaN</td>\n",
       "    </tr>\n",
       "    <tr>\n",
       "      <th>4</th>\n",
       "      <td>EL</td>\n",
       "      <td>246.78</td>\n",
       "      <td>1</td>\n",
       "      <td>2020-12-08</td>\n",
       "      <td>1</td>\n",
       "      <td>2020-12-07</td>\n",
       "    </tr>\n",
       "  </tbody>\n",
       "</table>\n",
       "</div>"
      ],
      "text/plain": [
       "   tick   price  success trigger_date  has_strategy strategy_date\n",
       "0  MSFT  214.97        0   2020-12-03             1    2020-12-02\n",
       "1  GRBK   21.88        1   2020-12-03             1    2020-12-02\n",
       "2   BLL   94.50        0   2020-12-07             0           NaN\n",
       "3   MSI  171.24        0   2020-12-07             0           NaN\n",
       "4    EL  246.78        1   2020-12-08             1    2020-12-07"
      ]
     },
     "execution_count": 3,
     "metadata": {},
     "output_type": "execute_result"
    }
   ],
   "source": [
    "triggered = pd.read_csv('triggered.csv')\n",
    "triggered.head()"
   ]
  },
  {
   "cell_type": "code",
   "execution_count": 4,
   "metadata": {},
   "outputs": [
    {
     "data": {
      "text/plain": [
       "success  has_strategy\n",
       "0        1               0.416667\n",
       "1        1               0.291667\n",
       "0        0               0.250000\n",
       "1        0               0.041667\n",
       "dtype: float64"
      ]
     },
     "execution_count": 4,
     "metadata": {},
     "output_type": "execute_result"
    }
   ],
   "source": [
    "triggered[['success', 'has_strategy']].value_counts() / len(triggered)"
   ]
  },
  {
   "cell_type": "code",
   "execution_count": 12,
   "metadata": {},
   "outputs": [
    {
     "data": {
      "text/plain": [
       "price  success  has_strategy\n",
       "1      1        1               0.250000\n",
       "       0        1               0.208333\n",
       "                0               0.208333\n",
       "0      0        1               0.208333\n",
       "       1        1               0.041667\n",
       "                0               0.041667\n",
       "       0        0               0.041667\n",
       "dtype: float64"
      ]
     },
     "execution_count": 12,
     "metadata": {},
     "output_type": "execute_result"
    }
   ],
   "source": [
    "temp = triggered.copy()\n",
    "f = lambda x: 0 if x < 50 else 1\n",
    "temp['price'] = temp['price'].map(f)\n",
    "temp[['price', 'success', 'has_strategy']].value_counts() / len(temp)"
   ]
  },
  {
   "cell_type": "code",
   "execution_count": 14,
   "metadata": {},
   "outputs": [
    {
     "data": {
      "text/plain": [
       "price  success\n",
       "1      1          0.352941\n",
       "       0          0.294118\n",
       "0      0          0.294118\n",
       "       1          0.058824\n",
       "dtype: float64"
      ]
     },
     "execution_count": 14,
     "metadata": {},
     "output_type": "execute_result"
    }
   ],
   "source": [
    "has_temp = temp[temp['has_strategy'] == 1]\n",
    "has_temp[['price', 'success']].value_counts() / len(has_temp)"
   ]
  },
  {
   "cell_type": "code",
   "execution_count": 15,
   "metadata": {},
   "outputs": [
    {
     "data": {
      "text/plain": [
       "price  success\n",
       "1      0          0.714286\n",
       "0      1          0.142857\n",
       "       0          0.142857\n",
       "dtype: float64"
      ]
     },
     "execution_count": 15,
     "metadata": {},
     "output_type": "execute_result"
    }
   ],
   "source": [
    "no_temp = temp[temp['has_strategy'] == 0]\n",
    "no_temp[['price', 'success']].value_counts() / len(no_temp)"
   ]
  },
  {
   "cell_type": "code",
   "execution_count": null,
   "metadata": {},
   "outputs": [],
   "source": []
  }
 ],
 "metadata": {
  "kernelspec": {
   "display_name": "Python 3.7.6 64-bit",
   "language": "python",
   "name": "python37664bit30bc8adbc9c54fbab15eb08ecc59d4b2"
  },
  "language_info": {
   "codemirror_mode": {
    "name": "ipython",
    "version": 3
   },
   "file_extension": ".py",
   "mimetype": "text/x-python",
   "name": "python",
   "nbconvert_exporter": "python",
   "pygments_lexer": "ipython3",
   "version": "3.7.6"
  }
 },
 "nbformat": 4,
 "nbformat_minor": 4
}
