{
 "cells": [
  {
   "cell_type": "code",
   "execution_count": 1,
   "metadata": {},
   "outputs": [],
   "source": [
    "import pandas as pd\n",
    "import numpy as np"
   ]
  },
  {
   "cell_type": "code",
   "execution_count": 2,
   "metadata": {},
   "outputs": [],
   "source": [
    "strategy = pd.read_csv('strategy.csv')\n",
    "strategy.head()"
   ]
  },
  {
   "cell_type": "code",
   "execution_count": 3,
   "metadata": {},
   "outputs": [
    {
     "data": {
      "text/html": [
       "<div>\n",
       "<style scoped>\n",
       "    .dataframe tbody tr th:only-of-type {\n",
       "        vertical-align: middle;\n",
       "    }\n",
       "\n",
       "    .dataframe tbody tr th {\n",
       "        vertical-align: top;\n",
       "    }\n",
       "\n",
       "    .dataframe thead th {\n",
       "        text-align: right;\n",
       "    }\n",
       "</style>\n",
       "<table border=\"1\" class=\"dataframe\">\n",
       "  <thead>\n",
       "    <tr style=\"text-align: right;\">\n",
       "      <th></th>\n",
       "      <th>tick</th>\n",
       "      <th>price</th>\n",
       "      <th>success</th>\n",
       "      <th>trigger_date</th>\n",
       "      <th>has_strategy</th>\n",
       "      <th>strategy_date</th>\n",
       "      <th>has_rate</th>\n",
       "      <th>rate</th>\n",
       "    </tr>\n",
       "  </thead>\n",
       "  <tbody>\n",
       "    <tr>\n",
       "      <th>0</th>\n",
       "      <td>MSFT</td>\n",
       "      <td>214.97</td>\n",
       "      <td>0</td>\n",
       "      <td>2020-12-03</td>\n",
       "      <td>1</td>\n",
       "      <td>2020-12-02</td>\n",
       "      <td>1</td>\n",
       "      <td>12.0</td>\n",
       "    </tr>\n",
       "    <tr>\n",
       "      <th>1</th>\n",
       "      <td>GRBK</td>\n",
       "      <td>21.88</td>\n",
       "      <td>1</td>\n",
       "      <td>2020-12-03</td>\n",
       "      <td>1</td>\n",
       "      <td>2020-12-02</td>\n",
       "      <td>1</td>\n",
       "      <td>19.0</td>\n",
       "    </tr>\n",
       "    <tr>\n",
       "      <th>2</th>\n",
       "      <td>BLL</td>\n",
       "      <td>94.50</td>\n",
       "      <td>0</td>\n",
       "      <td>2020-12-07</td>\n",
       "      <td>0</td>\n",
       "      <td>NaN</td>\n",
       "      <td>0</td>\n",
       "      <td>NaN</td>\n",
       "    </tr>\n",
       "    <tr>\n",
       "      <th>3</th>\n",
       "      <td>MSI</td>\n",
       "      <td>171.24</td>\n",
       "      <td>0</td>\n",
       "      <td>2020-12-07</td>\n",
       "      <td>0</td>\n",
       "      <td>NaN</td>\n",
       "      <td>0</td>\n",
       "      <td>NaN</td>\n",
       "    </tr>\n",
       "    <tr>\n",
       "      <th>4</th>\n",
       "      <td>EL</td>\n",
       "      <td>246.78</td>\n",
       "      <td>1</td>\n",
       "      <td>2020-12-08</td>\n",
       "      <td>1</td>\n",
       "      <td>2020-12-07</td>\n",
       "      <td>1</td>\n",
       "      <td>18.0</td>\n",
       "    </tr>\n",
       "  </tbody>\n",
       "</table>\n",
       "</div>"
      ],
      "text/plain": [
       "   tick   price  success trigger_date  has_strategy strategy_date  has_rate  \\\n",
       "0  MSFT  214.97        0   2020-12-03             1    2020-12-02         1   \n",
       "1  GRBK   21.88        1   2020-12-03             1    2020-12-02         1   \n",
       "2   BLL   94.50        0   2020-12-07             0           NaN         0   \n",
       "3   MSI  171.24        0   2020-12-07             0           NaN         0   \n",
       "4    EL  246.78        1   2020-12-08             1    2020-12-07         1   \n",
       "\n",
       "   rate  \n",
       "0  12.0  \n",
       "1  19.0  \n",
       "2   NaN  \n",
       "3   NaN  \n",
       "4  18.0  "
      ]
     },
     "execution_count": 3,
     "metadata": {},
     "output_type": "execute_result"
    }
   ],
   "source": [
    "triggered = pd.read_csv('triggered.csv')\n",
    "triggered.head()"
   ]
  },
  {
   "cell_type": "code",
   "execution_count": 4,
   "metadata": {},
   "outputs": [
    {
     "data": {
      "text/plain": [
       "success  has_strategy\n",
       "0        1               0.416667\n",
       "1        1               0.291667\n",
       "0        0               0.250000\n",
       "1        0               0.041667\n",
       "dtype: float64"
      ]
     },
     "execution_count": 4,
     "metadata": {},
     "output_type": "execute_result"
    }
   ],
   "source": [
    "triggered[['success', 'has_strategy']].value_counts() / len(triggered)"
   ]
  },
  {
   "cell_type": "code",
   "execution_count": 5,
   "metadata": {},
   "outputs": [],
   "source": [
    "temp = triggered.copy()\n",
    "f = lambda x: 0 if x < 50 else 1\n",
    "temp['price'] = temp['price'].map(f)"
   ]
  },
  {
   "cell_type": "code",
   "execution_count": 6,
   "metadata": {},
   "outputs": [
    {
     "data": {
      "text/plain": [
       "price  success\n",
       "1      1          0.352941\n",
       "       0          0.294118\n",
       "0      0          0.294118\n",
       "       1          0.058824\n",
       "dtype: float64"
      ]
     },
     "execution_count": 6,
     "metadata": {},
     "output_type": "execute_result"
    }
   ],
   "source": [
    "has_temp = temp[temp['has_strategy'] == 1]\n",
    "has_temp[['price', 'success']].value_counts() / len(has_temp)"
   ]
  },
  {
   "cell_type": "code",
   "execution_count": 7,
   "metadata": {},
   "outputs": [
    {
     "data": {
      "text/plain": [
       "price  success\n",
       "1      0          0.714286\n",
       "0      1          0.142857\n",
       "       0          0.142857\n",
       "dtype: float64"
      ]
     },
     "execution_count": 7,
     "metadata": {},
     "output_type": "execute_result"
    }
   ],
   "source": [
    "no_temp = temp[temp['has_strategy'] == 0]\n",
    "no_temp[['price', 'success']].value_counts() / len(no_temp)"
   ]
  },
  {
   "cell_type": "code",
   "execution_count": 9,
   "metadata": {},
   "outputs": [
    {
     "data": {
      "text/plain": [
       "rate  success\n",
       "1     1          0.411765\n",
       "      0          0.294118\n",
       "0     0          0.294118\n",
       "dtype: float64"
      ]
     },
     "execution_count": 9,
     "metadata": {},
     "output_type": "execute_result"
    }
   ],
   "source": [
    "temp = triggered.copy()\n",
    "temp = temp[temp['has_rate'] == 1]\n",
    "f = lambda x: 0 if x < 18 else 1\n",
    "temp['rate'] = temp['rate'].map(f)\n",
    "temp[['rate', 'success']].value_counts() / len(temp)"
   ]
  },
  {
   "cell_type": "code",
   "execution_count": null,
   "metadata": {},
   "outputs": [],
   "source": []
  }
 ],
 "metadata": {
  "kernelspec": {
   "display_name": "Python 3.7.6 64-bit",
   "language": "python",
   "name": "python37664bit30bc8adbc9c54fbab15eb08ecc59d4b2"
  },
  "language_info": {
   "codemirror_mode": {
    "name": "ipython",
    "version": 3
   },
   "file_extension": ".py",
   "mimetype": "text/x-python",
   "name": "python",
   "nbconvert_exporter": "python",
   "pygments_lexer": "ipython3",
   "version": "3.7.6"
  }
 },
 "nbformat": 4,
 "nbformat_minor": 4
}
