{
 "cells": [
  {
   "cell_type": "code",
   "execution_count": 1,
   "metadata": {},
   "outputs": [],
   "source": [
    "import pandas as pd\n",
    "import numpy as np"
   ]
  },
  {
   "cell_type": "markdown",
   "metadata": {},
   "source": [
    "# 读取数据"
   ]
  },
  {
   "cell_type": "code",
   "execution_count": 2,
   "metadata": {},
   "outputs": [],
   "source": [
    "strategy = pd.read_csv('strategy.csv')\n",
    "strategy.head()"
   ]
  },
  {
   "cell_type": "code",
   "execution_count": 3,
   "metadata": {},
   "outputs": [],
   "source": [
    "triggered = pd.read_csv('triggered.csv')\n",
    "triggered.head()"
   ]
  },
  {
   "cell_type": "markdown",
   "metadata": {},
   "source": [
    "# 触发率"
   ]
  },
  {
   "cell_type": "code",
   "execution_count": 4,
   "metadata": {},
   "outputs": [],
   "source": [
    "len(triggered['tick']) / len(strategy['tick'])"
   ]
  },
  {
   "cell_type": "markdown",
   "metadata": {},
   "source": [
    "# triggered：有无提示 vs 结果"
   ]
  },
  {
   "cell_type": "code",
   "execution_count": 5,
   "metadata": {},
   "outputs": [],
   "source": [
    "triggered[['success', 'has_strategy']].value_counts() / len(triggered)"
   ]
  },
  {
   "cell_type": "markdown",
   "metadata": {},
   "source": [
    "# triggered：股价 vs 结果"
   ]
  },
  {
   "cell_type": "code",
   "execution_count": 6,
   "metadata": {},
   "outputs": [],
   "source": [
    "temp = triggered.copy()\n",
    "f = lambda x: 0 if x < 50 else 1\n",
    "temp['price'] = temp['price'].map(f)\n",
    "temp[['price', 'success']].value_counts() / len(temp)"
   ]
  },
  {
   "cell_type": "markdown",
   "metadata": {},
   "source": [
    "# triggered：股价 vs 结果，有/无 提示"
   ]
  },
  {
   "cell_type": "code",
   "execution_count": 7,
   "metadata": {},
   "outputs": [],
   "source": [
    "has_temp = temp[temp['has_strategy'] == 1]\n",
    "has_temp[['price', 'success']].value_counts() / len(has_temp)"
   ]
  },
  {
   "cell_type": "code",
   "execution_count": 8,
   "metadata": {},
   "outputs": [],
   "source": [
    "no_temp = temp[temp['has_strategy'] == 0]\n",
    "no_temp[['price', 'success']].value_counts() / len(no_temp)"
   ]
  },
  {
   "cell_type": "markdown",
   "metadata": {},
   "source": [
    "# triggered：推荐指数 vs 结果"
   ]
  },
  {
   "cell_type": "code",
   "execution_count": 9,
   "metadata": {},
   "outputs": [
    {
     "data": {
      "text/plain": [
       "rate  success\n",
       "1     1.0        0.40\n",
       "0     0.0        0.35\n",
       "1     0.0        0.20\n",
       "dtype: float64"
      ]
     },
     "execution_count": 9,
     "metadata": {},
     "output_type": "execute_result"
    }
   ],
   "source": [
    "temp = triggered.copy()\n",
    "temp = temp[temp['has_rate'] == 1]\n",
    "f = lambda x: 0 if x < 18 else 1\n",
    "temp['rate'] = temp['rate'].map(f)\n",
    "temp[['rate', 'success']].value_counts() / len(temp)"
   ]
  },
  {
   "cell_type": "markdown",
   "metadata": {},
   "source": [
    "# 计算RRR"
   ]
  },
  {
   "cell_type": "code",
   "execution_count": 10,
   "metadata": {},
   "outputs": [
    {
     "data": {
      "text/html": [
       "<div>\n",
       "<style scoped>\n",
       "    .dataframe tbody tr th:only-of-type {\n",
       "        vertical-align: middle;\n",
       "    }\n",
       "\n",
       "    .dataframe tbody tr th {\n",
       "        vertical-align: top;\n",
       "    }\n",
       "\n",
       "    .dataframe thead th {\n",
       "        text-align: right;\n",
       "    }\n",
       "</style>\n",
       "<table border=\"1\" class=\"dataframe\">\n",
       "  <thead>\n",
       "    <tr style=\"text-align: right;\">\n",
       "      <th></th>\n",
       "      <th>date</th>\n",
       "      <th>tick</th>\n",
       "      <th>target</th>\n",
       "      <th>entry</th>\n",
       "      <th>stop</th>\n",
       "      <th>rate</th>\n",
       "      <th>entry_strategy</th>\n",
       "      <th>stop_strategy</th>\n",
       "      <th>trail_strategy</th>\n",
       "      <th>risk</th>\n",
       "      <th>reward</th>\n",
       "      <th>rrr</th>\n",
       "      <th>raise_cash</th>\n",
       "      <th>cash_level</th>\n",
       "    </tr>\n",
       "  </thead>\n",
       "  <tbody>\n",
       "    <tr>\n",
       "      <th>0</th>\n",
       "      <td>2020-12-02</td>\n",
       "      <td>SE</td>\n",
       "      <td>212.52</td>\n",
       "      <td>181.38</td>\n",
       "      <td>174.61</td>\n",
       "      <td>25</td>\n",
       "      <td>0</td>\n",
       "      <td>1</td>\n",
       "      <td>1.0</td>\n",
       "      <td>3.73</td>\n",
       "      <td>17.17</td>\n",
       "      <td>4.60</td>\n",
       "      <td>0</td>\n",
       "      <td>0.0</td>\n",
       "    </tr>\n",
       "    <tr>\n",
       "      <th>1</th>\n",
       "      <td>2020-12-02</td>\n",
       "      <td>GRBK</td>\n",
       "      <td>26.90</td>\n",
       "      <td>21.74</td>\n",
       "      <td>20.85</td>\n",
       "      <td>19</td>\n",
       "      <td>0</td>\n",
       "      <td>0</td>\n",
       "      <td>0.0</td>\n",
       "      <td>4.09</td>\n",
       "      <td>23.74</td>\n",
       "      <td>5.80</td>\n",
       "      <td>0</td>\n",
       "      <td>0.0</td>\n",
       "    </tr>\n",
       "    <tr>\n",
       "      <th>2</th>\n",
       "      <td>2020-12-02</td>\n",
       "      <td>AES</td>\n",
       "      <td>22.77</td>\n",
       "      <td>20.66</td>\n",
       "      <td>20.27</td>\n",
       "      <td>13</td>\n",
       "      <td>0</td>\n",
       "      <td>0</td>\n",
       "      <td>0.0</td>\n",
       "      <td>1.89</td>\n",
       "      <td>10.21</td>\n",
       "      <td>5.40</td>\n",
       "      <td>0</td>\n",
       "      <td>0.0</td>\n",
       "    </tr>\n",
       "    <tr>\n",
       "      <th>3</th>\n",
       "      <td>2020-12-02</td>\n",
       "      <td>MSFT</td>\n",
       "      <td>225.67</td>\n",
       "      <td>214.75</td>\n",
       "      <td>212.80</td>\n",
       "      <td>12</td>\n",
       "      <td>1</td>\n",
       "      <td>0</td>\n",
       "      <td>0.0</td>\n",
       "      <td>0.91</td>\n",
       "      <td>5.08</td>\n",
       "      <td>5.58</td>\n",
       "      <td>0</td>\n",
       "      <td>0.0</td>\n",
       "    </tr>\n",
       "    <tr>\n",
       "      <th>4</th>\n",
       "      <td>2020-12-02</td>\n",
       "      <td>BLL</td>\n",
       "      <td>103.15</td>\n",
       "      <td>94.94</td>\n",
       "      <td>93.42</td>\n",
       "      <td>12</td>\n",
       "      <td>1</td>\n",
       "      <td>0</td>\n",
       "      <td>0.0</td>\n",
       "      <td>1.60</td>\n",
       "      <td>8.65</td>\n",
       "      <td>5.41</td>\n",
       "      <td>0</td>\n",
       "      <td>0.0</td>\n",
       "    </tr>\n",
       "  </tbody>\n",
       "</table>\n",
       "</div>"
      ],
      "text/plain": [
       "         date  tick  target   entry    stop  rate  entry_strategy  \\\n",
       "0  2020-12-02    SE  212.52  181.38  174.61    25               0   \n",
       "1  2020-12-02  GRBK   26.90   21.74   20.85    19               0   \n",
       "2  2020-12-02   AES   22.77   20.66   20.27    13               0   \n",
       "3  2020-12-02  MSFT  225.67  214.75  212.80    12               1   \n",
       "4  2020-12-02   BLL  103.15   94.94   93.42    12               1   \n",
       "\n",
       "   stop_strategy  trail_strategy  risk  reward   rrr  raise_cash  cash_level  \n",
       "0              1             1.0  3.73   17.17  4.60           0         0.0  \n",
       "1              0             0.0  4.09   23.74  5.80           0         0.0  \n",
       "2              0             0.0  1.89   10.21  5.40           0         0.0  \n",
       "3              0             0.0  0.91    5.08  5.58           0         0.0  \n",
       "4              0             0.0  1.60    8.65  5.41           0         0.0  "
      ]
     },
     "execution_count": 10,
     "metadata": {},
     "output_type": "execute_result"
    }
   ],
   "source": [
    "strategy['risk'] = round((1 - strategy['stop'] / strategy['entry'])*100, 2)\n",
    "strategy['reward'] = round((strategy['target'] / strategy['entry'] - 1)*100, 2)\n",
    "strategy['rrr'] = round(strategy['reward'] / strategy['risk'], 2)\n",
    "strategy.head()"
   ]
  },
  {
   "cell_type": "code",
   "execution_count": 11,
   "metadata": {},
   "outputs": [],
   "source": [
    "strategy.to_csv('strategy.csv', index=False)"
   ]
  },
  {
   "cell_type": "code",
   "execution_count": 12,
   "metadata": {},
   "outputs": [
    {
     "data": {
      "text/plain": [
       "count    84.000000\n",
       "mean      2.344524\n",
       "std       1.260285\n",
       "min       0.550000\n",
       "25%       1.515000\n",
       "50%       2.045000\n",
       "75%       2.985000\n",
       "max       7.170000\n",
       "Name: risk, dtype: float64"
      ]
     },
     "execution_count": 12,
     "metadata": {},
     "output_type": "execute_result"
    }
   ],
   "source": [
    "strategy['risk'].describe()"
   ]
  },
  {
   "cell_type": "code",
   "execution_count": 13,
   "metadata": {},
   "outputs": [
    {
     "data": {
      "text/plain": [
       "count    84.000000\n",
       "mean     13.499881\n",
       "std       8.634801\n",
       "min       2.040000\n",
       "25%       7.665000\n",
       "50%      11.225000\n",
       "75%      16.870000\n",
       "max      51.660000\n",
       "Name: reward, dtype: float64"
      ]
     },
     "execution_count": 13,
     "metadata": {},
     "output_type": "execute_result"
    }
   ],
   "source": [
    "strategy['reward'].describe()"
   ]
  },
  {
   "cell_type": "code",
   "execution_count": 14,
   "metadata": {},
   "outputs": [
    {
     "data": {
      "text/plain": [
       "count    84.000000\n",
       "mean      5.850476\n",
       "std       1.778995\n",
       "min       2.460000\n",
       "25%       4.397500\n",
       "50%       5.685000\n",
       "75%       7.862500\n",
       "max       8.020000\n",
       "Name: rrr, dtype: float64"
      ]
     },
     "execution_count": 14,
     "metadata": {},
     "output_type": "execute_result"
    }
   ],
   "source": [
    "strategy['rrr'].describe()"
   ]
  },
  {
   "cell_type": "markdown",
   "metadata": {},
   "source": [
    "# rate统计"
   ]
  },
  {
   "cell_type": "code",
   "execution_count": 15,
   "metadata": {},
   "outputs": [
    {
     "data": {
      "text/plain": [
       "count    84.000000\n",
       "mean     17.250000\n",
       "std       3.824068\n",
       "min      10.000000\n",
       "25%      14.000000\n",
       "50%      18.000000\n",
       "75%      20.000000\n",
       "max      26.000000\n",
       "Name: rate, dtype: float64"
      ]
     },
     "execution_count": 15,
     "metadata": {},
     "output_type": "execute_result"
    }
   ],
   "source": [
    "strategy['rate'].describe()"
   ]
  },
  {
   "cell_type": "code",
   "execution_count": 16,
   "metadata": {},
   "outputs": [
    {
     "data": {
      "text/plain": [
       "count     8.000000\n",
       "mean     19.750000\n",
       "std       1.669046\n",
       "min      18.000000\n",
       "25%      18.750000\n",
       "50%      19.000000\n",
       "75%      21.250000\n",
       "max      22.000000\n",
       "Name: rate, dtype: float64"
      ]
     },
     "execution_count": 16,
     "metadata": {},
     "output_type": "execute_result"
    }
   ],
   "source": [
    "triggered[triggered['success'] == 1]['rate'].describe()"
   ]
  },
  {
   "cell_type": "markdown",
   "metadata": {},
   "source": [
    "# tick出现频率排序"
   ]
  },
  {
   "cell_type": "code",
   "execution_count": 17,
   "metadata": {},
   "outputs": [
    {
     "name": "stdout",
     "output_type": "stream",
     "text": [
      "[('SPOT', 5), ('SE', 4), ('COUP', 4), ('STNE', 4), ('MSI', 3), ('IP', 3), ('SQ', 3), ('AES', 2), ('BLL', 2), ('JD', 2), ('EL', 2), ('DKNG', 2), ('WMT', 2), ('AVTR', 2), ('NOW', 2), ('PINS', 2), ('TEAM', 2), ('STX', 2), ('WRK', 2), ('NUAN', 2), ('UBER', 2), ('AAPL', 2), ('GRBK', 1), ('MSFT', 1), ('TCOM', 1), ('ROK', 1), ('BF.B', 1), ('LILAK', 1), ('UNH', 1), ('FTCH', 1), ('MU', 1), ('GDS', 1), ('CC', 1), ('A', 1), ('MELI', 1), ('HHC', 1), ('ROKU', 1), ('LULU', 1), ('APG', 1), ('FISV', 1), ('ATUS', 1), ('AER', 1), ('SMAR', 1), ('XRX', 1), ('DELL', 1), ('VFC', 1), ('SHOP', 1), ('NET', 1), ('UAA', 1), ('OKTA', 1)]\n",
      "[('LILAK', 2), ('COUP', 2), ('MSFT', 1), ('GRBK', 1), ('BLL', 1), ('MSI', 1), ('EL', 1), ('STNE', 1), ('FITB', 1), ('CHTR', 1), ('CSX', 1), ('FTCH', 1), ('MU', 1), ('NOW', 1), ('IP', 1), ('STX', 1), ('WRK', 1), ('SQ', 1), ('SE', 1), ('HHC', 1), ('APG', 1), ('LULU', 1), ('TEAM', 1), ('AER', 1), ('DELL', 1)]\n"
     ]
    }
   ],
   "source": [
    "import collections\n",
    "print(sorted(collections.Counter(strategy['tick']).items(), key=lambda x:x[1], reverse=True))\n",
    "print(sorted(collections.Counter(triggered['tick']).items(), key=lambda x:x[1], reverse=True))"
   ]
  },
  {
   "cell_type": "code",
   "execution_count": 18,
   "metadata": {},
   "outputs": [
    {
     "data": {
      "text/html": [
       "<div>\n",
       "<style scoped>\n",
       "    .dataframe tbody tr th:only-of-type {\n",
       "        vertical-align: middle;\n",
       "    }\n",
       "\n",
       "    .dataframe tbody tr th {\n",
       "        vertical-align: top;\n",
       "    }\n",
       "\n",
       "    .dataframe thead th {\n",
       "        text-align: right;\n",
       "    }\n",
       "</style>\n",
       "<table border=\"1\" class=\"dataframe\">\n",
       "  <thead>\n",
       "    <tr style=\"text-align: right;\">\n",
       "      <th></th>\n",
       "      <th>date</th>\n",
       "      <th>tick</th>\n",
       "      <th>target</th>\n",
       "      <th>entry</th>\n",
       "      <th>stop</th>\n",
       "      <th>rate</th>\n",
       "      <th>entry_strategy</th>\n",
       "      <th>stop_strategy</th>\n",
       "      <th>trail_strategy</th>\n",
       "      <th>risk</th>\n",
       "      <th>reward</th>\n",
       "      <th>rrr</th>\n",
       "      <th>raise_cash</th>\n",
       "      <th>cash_level</th>\n",
       "    </tr>\n",
       "  </thead>\n",
       "  <tbody>\n",
       "    <tr>\n",
       "      <th>79</th>\n",
       "      <td>2021-01-15</td>\n",
       "      <td>SQ</td>\n",
       "      <td>251.06</td>\n",
       "      <td>230.56</td>\n",
       "      <td>225.58</td>\n",
       "      <td>22</td>\n",
       "      <td>1</td>\n",
       "      <td>1</td>\n",
       "      <td>1.0</td>\n",
       "      <td>2.16</td>\n",
       "      <td>8.89</td>\n",
       "      <td>4.12</td>\n",
       "      <td>1</td>\n",
       "      <td>0.8</td>\n",
       "    </tr>\n",
       "    <tr>\n",
       "      <th>80</th>\n",
       "      <td>2021-01-15</td>\n",
       "      <td>SHOP</td>\n",
       "      <td>1397.13</td>\n",
       "      <td>1182.04</td>\n",
       "      <td>1147.00</td>\n",
       "      <td>19</td>\n",
       "      <td>1</td>\n",
       "      <td>0</td>\n",
       "      <td>0.0</td>\n",
       "      <td>2.96</td>\n",
       "      <td>18.20</td>\n",
       "      <td>6.15</td>\n",
       "      <td>1</td>\n",
       "      <td>0.8</td>\n",
       "    </tr>\n",
       "    <tr>\n",
       "      <th>81</th>\n",
       "      <td>2021-01-15</td>\n",
       "      <td>NET</td>\n",
       "      <td>88.15</td>\n",
       "      <td>79.94</td>\n",
       "      <td>77.19</td>\n",
       "      <td>16</td>\n",
       "      <td>1</td>\n",
       "      <td>1</td>\n",
       "      <td>1.0</td>\n",
       "      <td>3.44</td>\n",
       "      <td>10.27</td>\n",
       "      <td>2.99</td>\n",
       "      <td>1</td>\n",
       "      <td>0.8</td>\n",
       "    </tr>\n",
       "    <tr>\n",
       "      <th>82</th>\n",
       "      <td>2021-01-15</td>\n",
       "      <td>UAA</td>\n",
       "      <td>22.58</td>\n",
       "      <td>18.26</td>\n",
       "      <td>17.72</td>\n",
       "      <td>12</td>\n",
       "      <td>1</td>\n",
       "      <td>1</td>\n",
       "      <td>1.0</td>\n",
       "      <td>2.96</td>\n",
       "      <td>23.66</td>\n",
       "      <td>7.99</td>\n",
       "      <td>1</td>\n",
       "      <td>0.8</td>\n",
       "    </tr>\n",
       "    <tr>\n",
       "      <th>83</th>\n",
       "      <td>2021-01-15</td>\n",
       "      <td>OKTA</td>\n",
       "      <td>272.52</td>\n",
       "      <td>256.77</td>\n",
       "      <td>251.52</td>\n",
       "      <td>11</td>\n",
       "      <td>1</td>\n",
       "      <td>1</td>\n",
       "      <td>1.0</td>\n",
       "      <td>2.04</td>\n",
       "      <td>6.13</td>\n",
       "      <td>3.00</td>\n",
       "      <td>1</td>\n",
       "      <td>0.8</td>\n",
       "    </tr>\n",
       "  </tbody>\n",
       "</table>\n",
       "</div>"
      ],
      "text/plain": [
       "          date  tick   target    entry     stop  rate  entry_strategy  \\\n",
       "79  2021-01-15    SQ   251.06   230.56   225.58    22               1   \n",
       "80  2021-01-15  SHOP  1397.13  1182.04  1147.00    19               1   \n",
       "81  2021-01-15   NET    88.15    79.94    77.19    16               1   \n",
       "82  2021-01-15   UAA    22.58    18.26    17.72    12               1   \n",
       "83  2021-01-15  OKTA   272.52   256.77   251.52    11               1   \n",
       "\n",
       "    stop_strategy  trail_strategy  risk  reward   rrr  raise_cash  cash_level  \n",
       "79              1             1.0  2.16    8.89  4.12           1         0.8  \n",
       "80              0             0.0  2.96   18.20  6.15           1         0.8  \n",
       "81              1             1.0  3.44   10.27  2.99           1         0.8  \n",
       "82              1             1.0  2.96   23.66  7.99           1         0.8  \n",
       "83              1             1.0  2.04    6.13  3.00           1         0.8  "
      ]
     },
     "execution_count": 18,
     "metadata": {},
     "output_type": "execute_result"
    }
   ],
   "source": [
    "strategy.tail(5)"
   ]
  },
  {
   "cell_type": "code",
   "execution_count": null,
   "metadata": {},
   "outputs": [],
   "source": []
  }
 ],
 "metadata": {
  "kernelspec": {
   "display_name": "Python 3.7.6 64-bit",
   "language": "python",
   "name": "python37664bit30bc8adbc9c54fbab15eb08ecc59d4b2"
  },
  "language_info": {
   "codemirror_mode": {
    "name": "ipython",
    "version": 3
   },
   "file_extension": ".py",
   "mimetype": "text/x-python",
   "name": "python",
   "nbconvert_exporter": "python",
   "pygments_lexer": "ipython3",
   "version": "3.7.6"
  }
 },
 "nbformat": 4,
 "nbformat_minor": 4
}
